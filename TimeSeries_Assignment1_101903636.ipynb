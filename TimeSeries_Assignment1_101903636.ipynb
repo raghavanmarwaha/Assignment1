{
  "cells": [
    {
      "cell_type": "markdown",
      "metadata": {
        "id": "z1pd7ONpZzGW"
      },
      "source": [
        "## Declaration and Preprocessing"
      ]
    },
    {
      "cell_type": "code",
      "execution_count": 1,
      "metadata": {
        "id": "HxyJw6nZPYIk"
      },
      "outputs": [],
      "source": [
        "import random\n",
        "import math\n",
        "import pandas as pd\n",
        "import numpy as np\n",
        "from sklearn.ensemble import ExtraTreesRegressor\n",
        "from sklearn.model_selection import cross_val_score\n",
        "from sklearn.metrics import mean_squared_error\n",
        "import matplotlib.pyplot as plt\n",
        "from matplotlib.pyplot import figure"
      ]
    },
    {
      "cell_type": "code",
      "execution_count": 2,
      "metadata": {
        "id": "WsSqxQftjNX0"
      },
      "outputs": [],
      "source": [
        "import warnings\n",
        "warnings.filterwarnings(\"ignore\")"
      ]
    },
    {
      "cell_type": "code",
      "execution_count": 3,
      "metadata": {
        "id": "Wo5PYK90PaAU"
      },
      "outputs": [],
      "source": [
        "df = pd.read_excel('DATASET.xlsx')"
      ]
    },
    {
      "cell_type": "code",
      "execution_count": null,
      "metadata": {
        "id": "yDlKMGp0FjTu"
      },
      "outputs": [],
      "source": [
        "df.head()"
      ]
    },
    {
      "cell_type": "code",
      "execution_count": 5,
      "metadata": {
        "id": "4bbI1N_QRKM8"
      },
      "outputs": [],
      "source": [
        "#Anomolies \n",
        "clear_idx = 910\n",
        "lst_to_clear = []\n",
        "for i in range(9):\n",
        "    lst_to_clear.append(clear_idx+i)\n",
        "lst_to_clear\n",
        "df.fillna(0, inplace=True)\n",
        "df.drop(lst_to_clear, inplace = True)"
      ]
    },
    {
      "cell_type": "code",
      "execution_count": 6,
      "metadata": {
        "id": "GZvPLb_7FvqT"
      },
      "outputs": [],
      "source": [
        "df.columns = df.columns.str.replace('Unnamed: 0', 'Section_name')"
      ]
    },
    {
      "cell_type": "code",
      "execution_count": null,
      "metadata": {
        "id": "UP8GnrJTPuMA"
      },
      "outputs": [],
      "source": [
        "\n",
        "mul = 10\n",
        "j = 0\n",
        "for i in range(100):\n",
        "    sec_name = df.iloc[j,0]\n",
        "    df.iloc[j:j + mul, 0] = sec_name\n",
        "    j += mul\n",
        "test_frame = df.loc[df['year'] == 10]\n",
        "df.head()"
      ]
    },
    {
      "cell_type": "code",
      "execution_count": 8,
      "metadata": {
        "id": "FnEh2L9Uk-kk"
      },
      "outputs": [],
      "source": [
        "move = 9\n",
        "def extract_xtrain(df, row_start, col_start):\n",
        "    row_end = row_start + move\n",
        "    return df.iloc[row_start:row_end, 1:10]"
      ]
    },
    {
      "cell_type": "code",
      "execution_count": 9,
      "metadata": {
        "id": "WYAWxMoZmsTR"
      },
      "outputs": [],
      "source": [
        "# Extract the training part of output dataset\n",
        "def extract_ytrain(df, row_start, col_start):\n",
        "    row_end = row_start + move\n",
        "    return df.iloc[row_start:row_end, col_start]"
      ]
    },
    {
      "cell_type": "code",
      "execution_count": 10,
      "metadata": {
        "id": "63jMYzNMoNkM"
      },
      "outputs": [],
      "source": [
        "# Extract the testing part of input dataset\n",
        "def extract_xtest(df, row_start):\n",
        "    row_end = row_start + move\n",
        "    return df.iloc[row_end, 1:10].to_numpy()"
      ]
    },
    {
      "cell_type": "code",
      "execution_count": 11,
      "metadata": {
        "id": "-popZ5EKpIFF"
      },
      "outputs": [],
      "source": [
        "# Extract the output part of ouput dataset\n",
        "def extract_ytest(df, row_start, col_start):\n",
        "    row_end = row_start + move\n",
        "    return df.iloc[row_end, col_start]"
      ]
    },
    {
      "cell_type": "code",
      "execution_count": 12,
      "metadata": {
        "id": "Hc0aufB8HepN"
      },
      "outputs": [],
      "source": [
        "# function to calcuate mean square error\n",
        "def calcuate_lmse(predict_val, test_val):\n",
        "    pred_diff = predict_val - test_val\n",
        "    return (pred_diff)**2"
      ]
    },
    {
      "cell_type": "code",
      "execution_count": 13,
      "metadata": {
        "id": "bxMogYPsJ6W_"
      },
      "outputs": [],
      "source": [
        "# Get the XY Split\n",
        "column_name = [\"Para-\"+str(i) for i in range(9,14)]\n",
        "XY = []\n",
        "def getXYsplit(df, row_start, row_end):\n",
        "    XY = []\n",
        "    XY.append(extract_xtrain(df, row_start, row_end))\n",
        "    XY.append(extract_ytrain(df, row_start, row_end))\n",
        "    XY.append(extract_xtest(df,row_start))\n",
        "    XY.append(extract_ytest(df,row_start,row_end))\n",
        "    return XY"
      ]
    },
    {
      "cell_type": "code",
      "execution_count": 14,
      "metadata": {
        "id": "d9EFEn9tkvLT"
      },
      "outputs": [],
      "source": [
        "from collections import defaultdict"
      ]
    },
    {
      "cell_type": "code",
      "execution_count": 15,
      "metadata": {
        "id": "TrPevRoAP2B4"
      },
      "outputs": [],
      "source": [
        "# Create a dictionary for storing predicted and true values\n",
        "pred_values = defaultdict(lambda : [])"
      ]
    },
    {
      "cell_type": "code",
      "execution_count": 16,
      "metadata": {
        "id": "7xVANkmQM0FQ"
      },
      "outputs": [],
      "source": [
        "from sklearn.metrics import mean_squared_error"
      ]
    },
    {
      "cell_type": "code",
      "execution_count": 17,
      "metadata": {
        "id": "GA970sVVB1fA"
      },
      "outputs": [],
      "source": [
        "rmse_combine = []"
      ]
    },
    {
      "cell_type": "code",
      "execution_count": 18,
      "metadata": {
        "id": "gUc0ZDaXB1fC"
      },
      "outputs": [],
      "source": [
        "from sklearn.linear_model import BayesianRidge\n",
        "model = BayesianRidge()"
      ]
    },
    {
      "cell_type": "code",
      "execution_count": 19,
      "metadata": {
        "id": "788BlhlMP3OY"
      },
      "outputs": [],
      "source": [
        "target_col = [10,11,12,13,14]\n",
        "root_mean_square_error = []\n",
        "total_count = 0\n",
        "curr_section = 0\n",
        "total_squared_error = 0\n",
        "max_val = 1000\n",
        "for j in target_col:\n",
        "    local_squared_error = 0\n",
        "    l_count = 0\n",
        "    LXY = [0,0,0,0]\n",
        "    for i in range(0, max_val, 10):\n",
        "        LXY = getXYsplit(df,i,j)\n",
        "        x_train, y_train,x_test,y_test = LXY[0],LXY[1],LXY[2],LXY[3]\n",
        "\n",
        "        # fit the model and predict\n",
        "        model.fit(x_train, y_train)\n",
        "        ypred = model.predict(x_test.reshape(1,-1))[0]\n",
        "\n",
        "        # store the predicted values\n",
        "        pred_values[column_name[curr_section]].append(ypred)\n",
        "\n",
        "        # store squared difference for RMSE\n",
        "\n",
        "        # local_squared_error = calcuate_lmse(ypred, y_test) + local_squared_error\n",
        "        total_squared_error = calcuate_lmse(ypred, y_test) + total_squared_error\n",
        "        l_count += 1\n",
        "        total_count += 1\n",
        "\n",
        "    # root_mean_square_error.append(local_squared_error)\n",
        "    curr_section += 1\n"
      ]
    },
    {
      "cell_type": "code",
      "execution_count": null,
      "metadata": {
        "id": "MfdrXDozP6U2"
      },
      "outputs": [],
      "source": [
        "# Calculate  RMSE\n",
        "total_rmse_by_n = total_squared_error/total_count\n",
        "final_rmse = total_rmse_by_n**0.5\n",
        "rmse_combine.append([\"Bayesian Ridge\",final_rmse])\n",
        "print(\"The RMSE of Bayesian Ridge is -- \" + str(final_rmse))"
      ]
    },
    {
      "cell_type": "code",
      "execution_count": 21,
      "metadata": {
        "id": "UhQPUG57B1fH"
      },
      "outputs": [],
      "source": [
        "from sklearn.kernel_ridge import KernelRidge\n",
        "model = KernelRidge(alpha=1.0)"
      ]
    },
    {
      "cell_type": "code",
      "execution_count": 22,
      "metadata": {
        "id": "rIh_gXs5B1fI"
      },
      "outputs": [],
      "source": [
        "target_col = [10,11,12,13,14]\n",
        "root_mean_square_error = []\n",
        "total_count = 0\n",
        "curr_section = 0\n",
        "total_squared_error = 0\n",
        "max_val = 1000\n",
        "for j in target_col:\n",
        "    local_squared_error = 0\n",
        "    l_count = 0\n",
        "    LXY = [0,0,0,0]\n",
        "    for i in range(0, max_val, 10):\n",
        "        LXY = getXYsplit(df,i,j)\n",
        "        x_train, y_train,x_test,y_test = LXY[0],LXY[1],LXY[2],LXY[3]\n",
        "\n",
        "        # fit the model and predict\n",
        "        model.fit(x_train, y_train)\n",
        "        ypred = model.predict(x_test.reshape(1,-1))[0]\n",
        "\n",
        "        # store the predicted values\n",
        "        pred_values[column_name[curr_section]].append(ypred)\n",
        "\n",
        "        # store squared difference for RMSE\n",
        "\n",
        "        # local_squared_error = calcuate_lmse(ypred, y_test) + local_squared_error\n",
        "        total_squared_error = calcuate_lmse(ypred, y_test) + total_squared_error\n",
        "        l_count += 1\n",
        "        total_count += 1\n",
        "\n",
        "    # root_mean_square_error.append(local_squared_error)\n",
        "    curr_section += 1\n"
      ]
    },
    {
      "cell_type": "code",
      "execution_count": null,
      "metadata": {
        "id": "DSsjINf2B1fJ"
      },
      "outputs": [],
      "source": [
        "# Calculate  RMSE\n",
        "total_rmse_by_n = total_squared_error/total_count\n",
        "final_rmse = total_rmse_by_n**0.5\n",
        "rmse_combine.append([\"Kernal Ridge\",final_rmse])\n",
        "print(\"The RMSE of Kernal Ridge  \" + str(final_rmse))"
      ]
    },
    {
      "cell_type": "code",
      "execution_count": 24,
      "metadata": {
        "id": "63sJtzqDB1fL"
      },
      "outputs": [],
      "source": [
        "## Define the Gradient Boosting\n",
        "from sklearn.ensemble import GradientBoostingRegressor\n",
        "model = GradientBoostingRegressor(random_state=42)"
      ]
    },
    {
      "cell_type": "code",
      "execution_count": 25,
      "metadata": {
        "id": "vpmtJPnTB1fM"
      },
      "outputs": [],
      "source": [
        "target_col = [10,11,12,13,14]\n",
        "root_mean_square_error = []\n",
        "total_count = 0\n",
        "curr_section = 0\n",
        "total_squared_error = 0\n",
        "max_val = 1000\n",
        "for j in target_col:\n",
        "    local_squared_error = 0\n",
        "    l_count = 0\n",
        "    LXY = [0,0,0,0]\n",
        "    for i in range(0, max_val, 10):\n",
        "        LXY = getXYsplit(df,i,j)\n",
        "        x_train, y_train,x_test,y_test = LXY[0],LXY[1],LXY[2],LXY[3]\n",
        "\n",
        "        # fit the model and predict\n",
        "        model.fit(x_train, y_train)\n",
        "        ypred = model.predict(x_test.reshape(1,-1))[0]\n",
        "\n",
        "        # store the predicted values\n",
        "        pred_values[column_name[curr_section]].append(ypred)\n",
        "\n",
        "        # store squared difference for RMSE\n",
        "\n",
        "        # local_squared_error = calcuate_lmse(ypred, y_test) + local_squared_error\n",
        "        total_squared_error = calcuate_lmse(ypred, y_test) + total_squared_error\n",
        "        l_count += 1\n",
        "        total_count += 1\n",
        "\n",
        "    # root_mean_square_error.append(local_squared_error)\n",
        "    curr_section += 1\n"
      ]
    },
    {
      "cell_type": "code",
      "execution_count": null,
      "metadata": {
        "id": "lIG5X8qZB1fN"
      },
      "outputs": [],
      "source": [
        "# Calculate  RMSE\n",
        "total_rmse_by_n = total_squared_error/total_count\n",
        "final_rmse = total_rmse_by_n**0.5\n",
        "rmse_combine.append([\"Gradient Boosting\",final_rmse])\n",
        "print(\"The RMSE of Gradient Boosting  \" + str(final_rmse))"
      ]
    },
    {
      "cell_type": "markdown",
      "metadata": {
        "id": "VPm7U_8SsL3l"
      },
      "source": [
        "# Plot"
      ]
    },
    {
      "cell_type": "code",
      "execution_count": null,
      "metadata": {
        "id": "IX6oi8oN7VZs"
      },
      "outputs": [],
      "source": [
        "# Get random rows for plotting\n",
        "plot_row = 50\n",
        "\n",
        "random_rows = []\n",
        "for i in range(plot_row):\n",
        "    random_rows.append(random.randint(0,90))\n"
      ]
    },
    {
      "cell_type": "code",
      "execution_count": null,
      "metadata": {
        "id": "PAZG8tpY9_RB"
      },
      "outputs": [],
      "source": [
        "figure(figsize=(13, 7), dpi=130)\n",
        "true_value = predicted_df.iloc[random_rows, 0]\n",
        "predicted_value = test_frame.iloc[random_rows,10]\n",
        "x_value = []\n",
        "for i in range(len(true_value)):\n",
        "    x_value.append(i+1)\n",
        "plt.plot(x_value,predicted_value, linestyle = 'dotted', label = 'predicted')\n",
        "plt.plot(x_value,true_value, linestyle = 'dotted', label = 'orginial')\n",
        "plt.xlabel('Number of Values')\n",
        "plt.ylabel('Values')\n",
        "plt.title('True vs Predicted Values of Para-9')\n",
        "plt.legend(loc = 'upper right')"
      ]
    },
    {
      "cell_type": "code",
      "execution_count": null,
      "metadata": {
        "id": "RrsU5KQREVJh"
      },
      "outputs": [],
      "source": [
        "figure(figsize=(13, 7), dpi=130)\n",
        "true_value = predicted_df.iloc[random_rows, 0]\n",
        "predicted_value = test_frame.iloc[random_rows,11]\n",
        "x_value = []\n",
        "for i in range(len(true_value)):\n",
        "    x_value.append(i+1)\n",
        "plt.plot(x_value,predicted_value, linestyle = 'dotted', label = 'predicted')\n",
        "plt.plot(x_value,true_value, linestyle = 'dotted', label = 'orginial')\n",
        "plt.xlabel('Number of Values')\n",
        "plt.ylabel('Values')\n",
        "plt.title('True vs Predicted Values of Para-10')\n",
        "plt.legend(loc = 'upper right')"
      ]
    },
    {
      "cell_type": "code",
      "execution_count": null,
      "metadata": {
        "id": "xR8T1sB4EV2Q"
      },
      "outputs": [],
      "source": [
        "figure(figsize=(13, 7), dpi=130)\n",
        "true_value = predicted_df.iloc[random_rows, 0]\n",
        "predicted_value = test_frame.iloc[random_rows,12]\n",
        "x_value = []\n",
        "for i in range(len(true_value)):\n",
        "    x_value.append(i+1)\n",
        "plt.plot(x_value,predicted_value, linestyle = 'dotted', label = 'predicted')\n",
        "plt.plot(x_value,true_value, linestyle = 'dotted', label = 'orginial')\n",
        "plt.xlabel('Number of Values')\n",
        "plt.ylabel('Values')\n",
        "plt.title('True vs Predicted Values of Para-11')\n",
        "plt.legend(loc = 'upper right')"
      ]
    },
    {
      "cell_type": "code",
      "execution_count": null,
      "metadata": {
        "id": "Gaxe-9clEWuv"
      },
      "outputs": [],
      "source": [
        "figure(figsize=(13, 7), dpi=130)\n",
        "true_value = predicted_df.iloc[random_rows, 0]\n",
        "predicted_value = test_frame.iloc[random_rows,13]\n",
        "x_value = []\n",
        "for i in range(len(true_value)):\n",
        "    x_value.append(i+1)\n",
        "plt.plot(x_value,predicted_value, linestyle = 'dotted', label = 'predicted')\n",
        "plt.plot(x_value,true_value, linestyle = 'dotted', label = 'orginial')\n",
        "plt.xlabel('Number of Values')\n",
        "plt.ylabel('Values')\n",
        "plt.title('True vs Predicted Values of Para-12')\n",
        "plt.legend(loc = 'upper right')"
      ]
    },
    {
      "cell_type": "code",
      "execution_count": null,
      "metadata": {
        "id": "BTmRiTcmEW_b"
      },
      "outputs": [],
      "source": [
        "figure(figsize=(13, 7), dpi=130)\n",
        "true_value = predicted_df.iloc[random_rows, 0]\n",
        "predicted_value = test_frame.iloc[random_rows,14]\n",
        "x_value = []\n",
        "for i in range(len(true_value)):\n",
        "    x_value.append(i+1)\n",
        "plt.plot(x_value,predicted_value, linestyle = 'dotted', label = 'predicted')\n",
        "plt.plot(x_value,true_value, linestyle = 'dotted', label = 'orginial')\n",
        "plt.xlabel('Number of Values')\n",
        "plt.ylabel('Values')\n",
        "plt.title('True vs Predicted Values of Para-13')\n",
        "plt.legend(loc = 'upper right')"
      ]
    },
    {
      "cell_type": "code",
      "execution_count": null,
      "metadata": {
        "id": "r_sZD5GpB1fa"
      },
      "outputs": [],
      "source": [
        "rmse_combine"
      ]
    }
  ],
  "metadata": {
    "colab": {
      "provenance": []
    },
    "kernelspec": {
      "display_name": "Python 3",
      "language": "python",
      "name": "python3"
    },
    "language_info": {
      "codemirror_mode": {
        "name": "ipython",
        "version": 3
      },
      "file_extension": ".py",
      "mimetype": "text/x-python",
      "name": "python",
      "nbconvert_exporter": "python",
      "pygments_lexer": "ipython3",
      "version": "3.8.8"
    }
  },
  "nbformat": 4,
  "nbformat_minor": 0
}